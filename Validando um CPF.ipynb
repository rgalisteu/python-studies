{
  "nbformat": 4,
  "nbformat_minor": 0,
  "metadata": {
    "colab": {
      "name": "RGM_Desafio_Semana3",
      "provenance": [],
      "authorship_tag": "ABX9TyMiLtS5eIP3r3v9FNSKRJF7",
      "include_colab_link": true
    },
    "kernelspec": {
      "name": "python3",
      "display_name": "Python 3"
    },
    "language_info": {
      "name": "python"
    }
  },
  "cells": [
    {
      "cell_type": "markdown",
      "metadata": {
        "id": "view-in-github",
        "colab_type": "text"
      },
      "source": [
        "<a href=\"https://colab.research.google.com/github/rgalisteu/python-studies/blob/master/Validando%20um%20CPF.ipynb\" target=\"_parent\"><img src=\"https://colab.research.google.com/assets/colab-badge.svg\" alt=\"Open In Colab\"/></a>"
      ]
    },
    {
      "cell_type": "code",
      "metadata": {
        "id": "IqaaWFgdH7f6"
      },
      "source": [
        "#aluno Rafael Galisteu de Mello\n",
        "def valida_CPF():\n",
        "  nro = input(\"Informe o número do CPF sem o '-': \")\n",
        "  if len(nro) != 11:\n",
        "    print(\"CPF inválido, digite os 11 dígitos\")\n",
        "    return 0\n",
        "  if not str.isnumeric(nro):\n",
        "    print(\"CPF inválido, digite somente os números\")\n",
        "    return 0\n",
        "  numeros=list(nro)\n",
        "  \n",
        "  v1 = 0 #verificação dos 9 primeiros digitos\n",
        "  r1 = 0 #resto da primeira parte da verificação\n",
        "  v2 = 0 #verificação dos 2 últimos dígitos\n",
        "  r2 = 0 #resto da segunda parte da verificação\n",
        "  \n",
        "  #Valida o primeiro dígito verificador\n",
        "  i=1 #iteração começa com 1\n",
        "  for x in numeros:\n",
        "    if i < 10: #9 primeiros dígitos (pois começou em 1)\n",
        "      v1 += int(x)*i\n",
        "      i = i+1\n",
        "  r1 = v1%11\n",
        "\n",
        "  #valida o segundo dígito verificador\n",
        "  i=0 \n",
        "  for x in numeros:\n",
        "    if i < 10: #10 primeiros dígitos (pois começou em 0)\n",
        "      v2 += int(x)*i\n",
        "      i = i+1\n",
        "  r2 = v2%11\n",
        "\n",
        "  #print(\"r1 = \",r1) #verifica o resultado da operação\n",
        "  #print(\"r2 = \",r2) #verifica o resultado da operação\n",
        "  \n",
        "  if (r1 == int(numeros[9])) and (r2 == int(numeros[10])):\n",
        "    print(\"CPF válido!\")\n",
        "  else:\n",
        "    print(\"CPF inválido!\")"
      ],
      "execution_count": null,
      "outputs": []
    },
    {
      "cell_type": "code",
      "metadata": {
        "colab": {
          "base_uri": "https://localhost:8080/"
        },
        "id": "8p05tOqXIdQ8",
        "outputId": "26ced3eb-141c-44d6-d727-4977bd6dfab2"
      },
      "source": [
        "valida_CPF()"
      ],
      "execution_count": null,
      "outputs": [
        {
          "output_type": "stream",
          "text": [
            "Informe o número do CPF sem o '-': 12345678977\n",
            "CPF inválido!\n"
          ],
          "name": "stdout"
        }
      ]
    },
    {
      "cell_type": "code",
      "metadata": {
        "id": "dKtcntXTIfp5"
      },
      "source": [
        ""
      ],
      "execution_count": null,
      "outputs": []
    }
  ]
}